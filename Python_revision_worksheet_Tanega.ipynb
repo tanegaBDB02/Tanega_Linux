{
  "cells": [
    {
      "cell_type": "markdown",
      "metadata": {
        "id": "view-in-github",
        "colab_type": "text"
      },
      "source": [
        "<a href=\"https://colab.research.google.com/github/tanegaBDB02/Tanega_Linux/blob/main/Python_revision_worksheet_Tanega.ipynb\" target=\"_parent\"><img src=\"https://colab.research.google.com/assets/colab-badge.svg\" alt=\"Open In Colab\"/></a>"
      ]
    },
    {
      "cell_type": "code",
      "source": [
        "import math\n",
        "\n",
        "def vol_cylinder(r,h):\n",
        "    pi=3.14\n",
        "    volume = pi*(r**2)*h\n",
        "    round_num=math.floor(volume * 100) / 100\n",
        "    print (round_num)\n",
        "\n",
        "def main():\n",
        "    r=int(input(\"Enter the radius: \"))\n",
        "    h=int(input(\"Enter the height: \"))\n",
        "    print (\"The volume of the cylinder is: \")\n",
        "    vol_cylinder(r,h)\n",
        "\n",
        "if __name__==\"__main__\":\n",
        "    main()\n"
      ],
      "metadata": {
        "id": "Vno6v-ext-xU"
      },
      "execution_count": null,
      "outputs": []
    },
    {
      "cell_type": "code",
      "source": [
        "import math\n",
        "\n",
        "def hypotenuse(a,b):\n",
        "    hypo=math.sqrt((a**2)+(b**2))\n",
        "    print(hypo)\n",
        "\n",
        "def main():\n",
        "    a=int(input(\"Enter one side of a triangle: \"))\n",
        "    b=int(input(\"Enter another side of a triangle: \"))\n",
        "    print(\"The hypotenuse of the triangle is: \")\n",
        "    hypotenuse(a,b)\n",
        "\n",
        "if __name__==\"__main__\":\n",
        "    main()"
      ],
      "metadata": {
        "id": "8TTI8uu4uHF0"
      },
      "execution_count": null,
      "outputs": []
    },
    {
      "cell_type": "code",
      "source": [
        "def median(n1,n2,n3):\n",
        "    numbers=[n1,n2,n3]\n",
        "    if n1>n2:\n",
        "        n1,n2 = n2,n1\n",
        "    if n1>n3:\n",
        "        n1,n3 = n3,n1\n",
        "    if n2>n3:\n",
        "        n2,n3 = n3,n2\n",
        "    numbers=[n1,n2,n3]\n",
        "    print (numbers[1])\n",
        "\n",
        "def main():\n",
        "    n1=int(input(\"Enter the first number: \"))\n",
        "    n2=int(input(\"Enter the second number: \"))\n",
        "    n3=int(input(\"Enter the third number: \"))\n",
        "    print (\"The median value of the three numbers is: \")\n",
        "    median(n1,n2,n3)\n",
        "\n",
        "if __name__==\"__main__\":\n",
        "    main()"
      ],
      "metadata": {
        "id": "zpYSKBUZuMjk"
      },
      "execution_count": null,
      "outputs": []
    },
    {
      "cell_type": "code",
      "source": [
        "def prime():\n",
        "    num = int(input(\"Enter a number\"))\n",
        "    if (num<2): #checking if it is a unique number or not\n",
        "        return False\n",
        "    for i in range (2, num): #iterating till that number to check if it is prime\n",
        "        if (num % i == 0):\n",
        "            return False\n",
        "\n",
        "    return True\n",
        "\n",
        "def main():\n",
        "    if prime(): #checking if it is true\n",
        "        print (\"It is a prime number\")\n",
        "    else:\n",
        "        print (\"It is a composite number\")\n",
        "\n",
        "if __name__==\"__main__\":\n",
        "    main()"
      ],
      "metadata": {
        "id": "5skU6gLiuPs8"
      },
      "execution_count": null,
      "outputs": []
    },
    {
      "cell_type": "code",
      "source": [
        "def wavelength(wave):\n",
        "    if (wave>=380 and wave<450):\n",
        "        return (\"Violet\")\n",
        "    elif (wave>=450 and wave<495):\n",
        "        return (\"Blue\")\n",
        "    elif(wave>=495 and wave<570):\n",
        "        return (\"Green\")\n",
        "    elif(wave>=570 and wave<590):\n",
        "        return (\"Yellow\")\n",
        "    elif(wave>=590 and wave<620):\n",
        "        return (\"Orange\")\n",
        "    elif(wave>=620 and wave<750):\n",
        "        return (\"Red\")\n",
        "    else:\n",
        "        return (\"Invalid wavelength input\")\n",
        "\n",
        "\n",
        "def main():\n",
        "    wave=int(input(\"Enter the wavelength: \"))\n",
        "    print (wavelength(wave))\n",
        "\n",
        "if __name__==\"__main__\":\n",
        "    main()\n"
      ],
      "metadata": {
        "id": "FSKk-qYfuSjl"
      },
      "execution_count": null,
      "outputs": []
    },
    {
      "cell_type": "code",
      "source": [
        "def operations(n1,n2):\n",
        "    sum = n1+n2\n",
        "    diff = n1-n2\n",
        "    mult =n1*n2\n",
        "    quo = n1/n2\n",
        "    rem = n1%n2\n",
        "    print (\"The sum of the two numbers is: \",sum)\n",
        "    print(\"The difference of the two numbers is: \",diff)\n",
        "    print(\"The multiplication of the two numbers is: \",mult)\n",
        "    print(\"The quotient calculated when n1 divided by n2 is: \",quo)\n",
        "    print(\"The remainder calculated when n1 divided by n2 is: \", rem)\n",
        "\n",
        "def main():\n",
        "    n1=int(input(\"Enter a number: \"))\n",
        "    n2=int(input(\"Enter another number: \"))\n",
        "    print(\"The result of the operations (+,-,*,,/,%) performed on the two numbers are: \")\n",
        "    operations(n1,n2)\n",
        "\n",
        "if __name__==\"__main__\":\n",
        "    main()\n"
      ],
      "metadata": {
        "id": "qLgYAqStuVdd"
      },
      "execution_count": null,
      "outputs": []
    },
    {
      "cell_type": "code",
      "source": [
        "def sqr(num):\n",
        "    square=num**2\n",
        "    return (square)\n",
        "\n",
        "\n",
        "def cube_of_num(num):\n",
        "    cube=num**3\n",
        "    return (cube)\n",
        "\n",
        "\n",
        "def main():\n",
        "    num=int(input(\"Enter a number: \"))\n",
        "    print (\"The square of the number is: \",sqr(num))\n",
        "    print(\"The cube of the number is: \",cube_of_num(num))\n",
        "\n",
        "\n",
        "if __name__==\"__main__\":\n",
        "    main()\n",
        "\n"
      ],
      "metadata": {
        "id": "JBzRaRV2uYSs"
      },
      "execution_count": null,
      "outputs": []
    },
    {
      "cell_type": "code",
      "source": [
        "def article(noun):\n",
        "    first=noun[0]\n",
        "    if first in 'aeiou':\n",
        "        print (\"an\",noun)\n",
        "    else:\n",
        "        print (\"a\",noun)\n",
        "\n",
        "def main():\n",
        "    noun=input(\"Enter a word: \")\n",
        "    print (\"The article used for the noun is\")\n",
        "    article(noun)\n",
        "\n",
        "if __name__==\"__main__\":\n",
        "    main()"
      ],
      "metadata": {
        "id": "4d97bfuludIk"
      },
      "execution_count": null,
      "outputs": []
    },
    {
      "cell_type": "code",
      "source": [
        "def triangle(side1,side2,side3):\n",
        "    if ((side1+side2)>side3 and (side2+side3)>side1 and (side3+side1)>side2):\n",
        "        print (\"Triangle can be formed\")\n",
        "    else:\n",
        "        print (\"Triangle cannot be formed\")\n",
        "\n",
        "def main():\n",
        "    side1=int(input(\"Enter the first side of a triangle: \"))\n",
        "    side2=int(input(\"Enter the second side of a triangle: \"))\n",
        "    side3=int(input(\"Enter the third side of a triangle: \"))\n",
        "    triangle(side1,side2,side3)\n",
        "\n",
        "if __name__==\"__main__\":\n",
        "    main()\n",
        "\n"
      ],
      "metadata": {
        "id": "dFaywZQBuePM"
      },
      "execution_count": null,
      "outputs": []
    },
    {
      "cell_type": "code",
      "source": [
        "def replace_comma (sentence):\n",
        "    new_sentence=sentence.replace(\",\",\" and \")\n",
        "    print(new_sentence)\n",
        "\n",
        "def main():\n",
        "    sentence=input(\"Enter the sentence: \")\n",
        "    print (\"The formated output is: \")\n",
        "    replace_comma(sentence)\n",
        "\n",
        "if __name__==\"__main__\":\n",
        "    main()"
      ],
      "metadata": {
        "id": "3t_9WDnkuhjk"
      },
      "execution_count": null,
      "outputs": []
    }
  ],
  "metadata": {
    "colab": {
      "name": "Welcome To Colab",
      "toc_visible": true,
      "provenance": [],
      "include_colab_link": true
    },
    "kernelspec": {
      "display_name": "Python 3",
      "name": "python3"
    }
  },
  "nbformat": 4,
  "nbformat_minor": 0
}